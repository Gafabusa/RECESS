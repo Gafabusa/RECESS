{
 "cells": [
  {
   "cell_type": "code",
   "execution_count": 1,
   "metadata": {},
   "outputs": [
    {
     "ename": "ModuleNotFoundError",
     "evalue": "No module named 'bs4'",
     "output_type": "error",
     "traceback": [
      "\u001b[1;31m---------------------------------------------------------------------------\u001b[0m",
      "\u001b[1;31mModuleNotFoundError\u001b[0m                       Traceback (most recent call last)",
      "Cell \u001b[1;32mIn[1], line 1\u001b[0m\n\u001b[1;32m----> 1\u001b[0m \u001b[39mfrom\u001b[39;00m \u001b[39mbs4\u001b[39;00m \u001b[39mimport\u001b[39;00m BeautifulSoup\n\u001b[0;32m      2\u001b[0m \u001b[39mimport\u001b[39;00m \u001b[39mrequests\u001b[39;00m\n\u001b[0;32m      3\u001b[0m \u001b[39mimport\u001b[39;00m \u001b[39mjson\u001b[39;00m\n",
      "\u001b[1;31mModuleNotFoundError\u001b[0m: No module named 'bs4'"
     ]
    }
   ],
   "source": [
    "from bs4 import BeautifulSoup\n",
    "import requests\n",
    "import json\n",
    "import pandas as pd\n",
    "import csv\n",
    "\n",
    "url = \"https://xeno-canto.org/api/2/recordings?query=sp\"\n",
    "response_API = requests.get(url)\n",
    "content = response_API.text\n",
    "\n",
    "data = response_API.text\n",
    "parse_json = json.loads(data)\n",
    "species = parse_json['recordings']\n",
    "bird_species = []\n",
    "bird_english_name = []\n",
    "bird_generic_name = []\n",
    "\n",
    "for item in species:\n",
    "    if item[\"group\"] == \"birds\":\n",
    "        bird_species.append(item[\"sp\"])\n",
    "        bird_english_name.append(item[\"en\"])\n",
    "        bird_generic_name.append(item[\"gen\"])\n",
    "\n",
    "\n",
    "\n",
    "print(bird_species)\n",
    "print(bird_generic_name)\n",
    "print(bird_english_name)\n",
    "\n",
    "# writing to a csv\n",
    "\n",
    "\n",
    "csv = {\n",
    "    \"bird_species\":bird_species,\n",
    "    \"bird_english_name\":bird_english_name,\n",
    "    \"bird_generic_name\":bird_generic_name\n",
    "}\n",
    "df = pd.DataFrame(csv)\n",
    "df.to_csv(\"Gafabusa.csv\")\n",
    "print(df.head())"
   ]
  }
 ],
 "metadata": {
  "kernelspec": {
   "display_name": "Python 3",
   "language": "python",
   "name": "python3"
  },
  "language_info": {
   "codemirror_mode": {
    "name": "ipython",
    "version": 3
   },
   "file_extension": ".py",
   "mimetype": "text/x-python",
   "name": "python",
   "nbconvert_exporter": "python",
   "pygments_lexer": "ipython3",
   "version": "3.11.4"
  },
  "orig_nbformat": 4
 },
 "nbformat": 4,
 "nbformat_minor": 2
}
