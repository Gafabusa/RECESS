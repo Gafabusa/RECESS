{
 "cells": [
  {
   "cell_type": "code",
   "execution_count": 4,
   "id": "d598f21c",
   "metadata": {},
   "outputs": [
    {
     "name": "stdout",
     "output_type": "stream",
     "text": [
      "     Name  Age      City\n",
      "0   Willy   21  New York\n",
      "1  Amooti   22    London\n",
      "2    Kcee   25     Paris\n",
      "3   David   30     Tokyo\n"
     ]
    }
   ],
   "source": [
    "import pandas as pd\n",
    "\n",
    "# Creating a dictionary\n",
    "data = {'Name': ['Willy', 'Amooti', 'Kcee', 'David'],\n",
    "        'Age': [21, 22, 25, 30],\n",
    "        'City': ['New York', 'London', 'Paris', 'Tokyo']}\n",
    "\n",
    "# Creating a DataFrame \n",
    "df = pd.DataFrame(data)\n",
    "print(df)\n"
   ]
  },
  {
   "cell_type": "code",
   "execution_count": null,
   "id": "b2cad717",
   "metadata": {},
   "outputs": [],
   "source": []
  }
 ],
 "metadata": {
  "kernelspec": {
   "display_name": "Python 3 (ipykernel)",
   "language": "python",
   "name": "python3"
  },
  "language_info": {
   "codemirror_mode": {
    "name": "ipython",
    "version": 3
   },
   "file_extension": ".py",
   "mimetype": "text/x-python",
   "name": "python",
   "nbconvert_exporter": "python",
   "pygments_lexer": "ipython3",
   "version": "3.9.13"
  }
 },
 "nbformat": 4,
 "nbformat_minor": 5
}
